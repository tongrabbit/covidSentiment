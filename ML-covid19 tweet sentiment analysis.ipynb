{
  "nbformat": 4,
  "nbformat_minor": 0,
  "metadata": {
    "colab": {
      "name": "Battle of ML Classification Models.ipynb",
      "provenance": [],
      "collapsed_sections": [],
      "include_colab_link": true
    },
    "kernelspec": {
      "name": "python3",
      "display_name": "Python 3"
    },
    "language_info": {
      "name": "python"
    }
  },
  "cells": [
    {
      "cell_type": "markdown",
      "metadata": {
        "id": "view-in-github",
        "colab_type": "text"
      },
      "source": [
        "<a href=\"https://colab.research.google.com/github/tongrabbit/covidSentiment/blob/main/ML-covid19%20tweet%20sentiment%20analysis.ipynb\" target=\"_parent\"><img src=\"https://colab.research.google.com/assets/colab-badge.svg\" alt=\"Open In Colab\"/></a>"
      ]
    },
    {
      "cell_type": "code",
      "metadata": {
        "colab": {
          "base_uri": "https://localhost:8080/"
        },
        "id": "veTI12_EhIMe",
        "outputId": "50dee147-bfbb-4f58-fcf6-2a35fd0c15d1"
      },
      "source": [
        "from google.colab import drive\n",
        "drive.mount('/content/drive')\n",
        "\n",
        "import os\n",
        "import pandas as pd\n",
        "import json\n",
        "from tqdm import tqdm_notebook\n",
        "\n",
        "os.chdir('/content/drive/MyDrive/Colab Notebooks')"
      ],
      "execution_count": null,
      "outputs": [
        {
          "output_type": "stream",
          "name": "stdout",
          "text": [
            "Mounted at /content/drive\n"
          ]
        }
      ]
    },
    {
      "cell_type": "code",
      "metadata": {
        "id": "darR2uW0gB5y"
      },
      "source": [
        "import pandas as pd\n",
        "import numpy as np\n",
        "import re \n",
        "import nltk \n",
        "from sklearn.pipeline import Pipeline\n",
        "from sklearn.feature_extraction.text import CountVectorizer, TfidfVectorizer\n",
        "from sklearn.linear_model import LogisticRegression\n",
        "from sklearn.model_selection import train_test_split, cross_val_score, KFold\n",
        "\n",
        "\n",
        "from io import StringIO\n",
        "from sklearn.feature_extraction.text import TfidfVectorizer\n",
        "from sklearn.feature_selection import chi2\n",
        "from IPython.display import display\n",
        "from sklearn.model_selection import train_test_split\n",
        "from sklearn.feature_extraction.text import TfidfTransformer\n",
        "from sklearn.naive_bayes import MultinomialNB\n",
        "from sklearn.linear_model import LogisticRegression\n",
        "from sklearn.ensemble import RandomForestClassifier\n",
        "from sklearn.svm import LinearSVC\n",
        "from sklearn.model_selection import cross_val_score\n",
        "from sklearn.metrics import confusion_matrix\n",
        "from sklearn import metrics\n",
        "\n",
        "from sklearn.decomposition import PCA, TruncatedSVD\n",
        "from sklearn.metrics import classification_report,confusion_matrix\n",
        "import matplotlib.pyplot as plt\n",
        "%matplotlib inline\n",
        "import seaborn as sns\n",
        "plt.style.use('ggplot')\n",
        "import matplotlib.patches as mpatches"
      ],
      "execution_count": null,
      "outputs": []
    },
    {
      "cell_type": "code",
      "metadata": {
        "id": "CLwua-QmgWDS"
      },
      "source": [
        "train=pd.read_csv(\"Corona_NLP_train.csv\",encoding='latin1')\n",
        "test=pd.read_csv(\"Corona_NLP_test.csv\",encoding='latin1')"
      ],
      "execution_count": null,
      "outputs": []
    },
    {
      "cell_type": "code",
      "metadata": {
        "colab": {
          "base_uri": "https://localhost:8080/"
        },
        "id": "jLFmqiuigW1V",
        "outputId": "69d0715d-2d56-44e1-fd17-6958ff507514"
      },
      "source": [
        "train['text'] = train.OriginalTweet\n",
        "train[\"text\"] = train[\"text\"].astype(str)\n",
        "\n",
        "test['text'] = test.OriginalTweet\n",
        "test[\"text\"] = test[\"text\"].astype(str)\n",
        "\n",
        "# Data has 5 classes, let's convert them to 3\n",
        "## 감정구분을 3가지로\n",
        "def classes_def(x):\n",
        "    if x ==  \"Extremely Positive\":\n",
        "        return \"2\"\n",
        "    elif x == \"Extremely Negative\":\n",
        "        return \"0\"\n",
        "    elif x == \"Negative\":\n",
        "        return \"0\"\n",
        "    elif x ==  \"Positive\":\n",
        "        return \"2\"\n",
        "    else:\n",
        "        return \"1\"\n",
        "    \n",
        "## Sentiment 컬럼 데이터를 class_def에 적용하여 바꿈\n",
        "train['label']=train['Sentiment'].apply(lambda x:classes_def(x))\n",
        "test['label']=test['Sentiment'].apply(lambda x:classes_def(x))\n",
        "\n",
        "## 어떤 컬럼/Series의 unique value들을 count해주는 함수\n",
        "## normalize=True : 비율 확인\n",
        "train.label.value_counts(normalize= True)"
      ],
      "execution_count": null,
      "outputs": [
        {
          "output_type": "execute_result",
          "data": {
            "text/plain": [
              "2    0.438467\n",
              "0    0.374128\n",
              "1    0.187404\n",
              "Name: label, dtype: float64"
            ]
          },
          "metadata": {},
          "execution_count": 7
        }
      ]
    },
    {
      "cell_type": "code",
      "metadata": {
        "id": "LsCmreB2gWxt"
      },
      "source": [
        "## 정규표현식 이용하여 전처리\n",
        "# Remove Urls and HTML links\n",
        "def remove_urls(text):\n",
        "    url_remove = re.compile(r'https?://\\S+|www\\.\\S+') \n",
        "    return url_remove.sub(r'', text)\n",
        "train['text_new']=train['text'].apply(lambda x:remove_urls(x))\n",
        "test['text_new']=test['text'].apply(lambda x:remove_urls(x))\n",
        "\n",
        "def remove_html(text):\n",
        "    html=re.compile(r'<.*?>')\n",
        "    return html.sub(r'',text)\n",
        "train['text']=train['text_new'].apply(lambda x:remove_html(x))\n",
        "test['text']=test['text_new'].apply(lambda x:remove_html(x))"
      ],
      "execution_count": null,
      "outputs": []
    },
    {
      "cell_type": "code",
      "metadata": {
        "id": "qIy95VNygjtt"
      },
      "source": [
        "# Lower casing\n",
        "def lower(text):\n",
        "    low_text= text.lower()\n",
        "    return low_text\n",
        "train['text_new']=train['text'].apply(lambda x:lower(x))\n",
        "test['text_new']=test['text'].apply(lambda x:lower(x))\n",
        "\n",
        "\n",
        "# Number removal\n",
        "def remove_num(text):\n",
        "    remove= re.sub(r'\\d+', '', text) \n",
        "    return remove\n",
        "train['text']=train['text_new'].apply(lambda x:remove_num(x))\n",
        "test['text']=test['text_new'].apply(lambda x:remove_num(x))"
      ],
      "execution_count": null,
      "outputs": []
    },
    {
      "cell_type": "code",
      "metadata": {
        "colab": {
          "base_uri": "https://localhost:8080/"
        },
        "id": "bUrAA9GhgjqP",
        "outputId": "31c983e5-3c10-4dce-a3cc-3a4913eb8a01"
      },
      "source": [
        "#Remove stopwords & Punctuations\n",
        "import nltk\n",
        "nltk.download('stopwords')\n",
        "\n",
        "#Remove stopwords & Punctuations\n",
        "from nltk.corpus import stopwords\n",
        "\", \".join(stopwords.words('english'))\n",
        "STOPWORDS = set(stopwords.words('english'))\n",
        "\n",
        "def punct_remove(text):\n",
        "    punct = re.sub(r\"[^\\w\\s\\d]\",\"\", text) \n",
        "    return punct\n",
        "\n",
        "train['text_new']=train['text'].apply(lambda x:punct_remove(x))\n",
        "test['text_new']=test['text'].apply(lambda x:punct_remove(x))\n",
        "\n",
        "def remove_stopwords(text):\n",
        "    \"\"\"custom function to remove the stopwords\"\"\"\n",
        "    return \" \".join([word for word in str(text).split() if word not in STOPWORDS])\n",
        "train['text']=train['text_new'].apply(lambda x:remove_stopwords(x))\n",
        "test['text']=test['text_new'].apply(lambda x:remove_stopwords(x))"
      ],
      "execution_count": null,
      "outputs": [
        {
          "output_type": "stream",
          "name": "stdout",
          "text": [
            "[nltk_data] Downloading package stopwords to /root/nltk_data...\n",
            "[nltk_data]   Package stopwords is already up-to-date!\n"
          ]
        }
      ]
    },
    {
      "cell_type": "code",
      "metadata": {
        "id": "AROQO8pTgjoq"
      },
      "source": [
        "#Remove mentions and hashtags\n",
        "def remove_mention(x):\n",
        "    text=re.sub(r'@\\w+','',x)\n",
        "    return text\n",
        "train['text_new']=train['text'].apply(lambda x:remove_mention(x))\n",
        "test['text_new']=test['text'].apply(lambda x:remove_mention(x))\n",
        "\n",
        "def remove_hash(x):\n",
        "    text=re.sub(r'#\\w+','',x)\n",
        "    return text\n",
        "train['text']=train['text_new'].apply(lambda x:remove_hash(x))\n",
        "test['text']=test['text_new'].apply(lambda x:remove_hash(x))\n",
        "\n",
        "#Remove extra white space left while removing stuff\n",
        "def remove_space(text):\n",
        "    space_remove = re.sub(r\"\\s+\",\" \",text).strip()\n",
        "    return space_remove\n",
        "train['text_new']=train['text'].apply(lambda x:remove_space(x))\n",
        "test['text_new']=test['text'].apply(lambda x:remove_space(x))\n",
        "test = test.drop(columns=['text_new'])\n",
        "train = train.drop(columns=['text_new'])"
      ],
      "execution_count": null,
      "outputs": []
    },
    {
      "cell_type": "code",
      "metadata": {
        "id": "vXi6AklNgjmt"
      },
      "source": [
        "stop_words = ['a', 'an', 'the']\n",
        "\n",
        "# Basic cleansing\n",
        "def cleansing(text):\n",
        "    # Tokenize\n",
        "    tokens = text.split(' ')\n",
        "    # Lower case\n",
        "    tokens = [w.lower() for w in tokens]\n",
        "    # Remove stop words\n",
        "    tokens = [w for w in tokens if w not in stop_words]\n",
        "    return ' '.join(tokens)\n",
        "\n",
        "# All-in-one preproce\n",
        "def preprocess_x(x):\n",
        "    processed_x = [cleansing(text) for text in x]\n",
        "    \n",
        "    return processed_x\n",
        "    \n",
        "train['text_new']=train['text'].apply(lambda x:preprocess_x(x))\n",
        "test['text_new']=test['text'].apply(lambda x:preprocess_x(x))"
      ],
      "execution_count": null,
      "outputs": []
    },
    {
      "cell_type": "code",
      "metadata": {
        "id": "N57QGMB-gjkO"
      },
      "source": [
        "X = train[\"text\"].tolist()\n",
        "y = train[\"label\"].tolist()\n",
        "\n",
        "X_train, X_test, y_train, y_test = train_test_split(X, y, \n",
        "                                                    test_size=0.10,\n",
        "                                                    random_state = 0)"
      ],
      "execution_count": null,
      "outputs": []
    },
    {
      "cell_type": "code",
      "metadata": {
        "colab": {
          "base_uri": "https://localhost:8080/"
        },
        "id": "GXksBvCjg050",
        "outputId": "b627f7c4-0a42-4fcd-9a23-ceb1af931839"
      },
      "source": [
        "## sublinear_tf : 높은 tf값을 완만하게 처리\n",
        "## min_df : DF의 최소값을 설정하여 해당 값보다 작은 DF를 가진 단어들 제외 \n",
        "\n",
        "tfidf = TfidfVectorizer(sublinear_tf=True, min_df=5,\n",
        "                        stop_words='english')\n",
        "\n",
        "# We transform each text into a vector\n",
        "features = tfidf.fit_transform(train.text).toarray()\n",
        "\n",
        "labels = train.label\n",
        "\n",
        "print(\"Each of the %d tweets is represented by %d features (TF-IDF score of unigrams and bigrams)\" %(features.shape))"
      ],
      "execution_count": null,
      "outputs": [
        {
          "output_type": "stream",
          "name": "stdout",
          "text": [
            "Each of the 41157 tweets is represented by 10615 features (TF-IDF score of unigrams and bigrams)\n"
          ]
        }
      ]
    },
    {
      "cell_type": "code",
      "metadata": {
        "id": "RwGlY9tJg02Q"
      },
      "source": [
        "models = [\n",
        "    RandomForestClassifier(n_estimators=100, max_depth=5, random_state=0),\n",
        "    LinearSVC(),\n",
        "    MultinomialNB(),\n",
        "]\n",
        "\n",
        "# 5 Cross-validation\n",
        "CV = 5\n",
        "cv_df = pd.DataFrame(index=range(CV * len(models)))\n",
        "\n",
        "entries = []\n",
        "for model in models:\n",
        "  model_name = model.__class__.__name__\n",
        "  accuracies = cross_val_score(model, features, labels, scoring='accuracy', cv=CV)\n",
        "  for fold_idx, accuracy in enumerate(accuracies):\n",
        "    entries.append((model_name, fold_idx, accuracy))\n",
        "    \n",
        "cv_df = pd.DataFrame(entries, columns=['model_name', 'fold_idx', 'accuracy'])"
      ],
      "execution_count": null,
      "outputs": []
    },
    {
      "cell_type": "code",
      "metadata": {
        "colab": {
          "base_uri": "https://localhost:8080/",
          "height": 175
        },
        "id": "pk2suiarg0zY",
        "outputId": "9f5e255d-d4aa-400a-944d-05c6a979a2db"
      },
      "source": [
        "mean_accuracy = cv_df.groupby('model_name').accuracy.mean()\n",
        "std_accuracy = cv_df.groupby('model_name').accuracy.std()\n",
        "\n",
        "acc = pd.concat([mean_accuracy, std_accuracy], axis= 1, \n",
        "          ignore_index=True)\n",
        "acc.columns = ['Mean Accuracy', 'Standard deviation']\n",
        "acc"
      ],
      "execution_count": null,
      "outputs": [
        {
          "output_type": "execute_result",
          "data": {
            "text/html": [
              "<div>\n",
              "<style scoped>\n",
              "    .dataframe tbody tr th:only-of-type {\n",
              "        vertical-align: middle;\n",
              "    }\n",
              "\n",
              "    .dataframe tbody tr th {\n",
              "        vertical-align: top;\n",
              "    }\n",
              "\n",
              "    .dataframe thead th {\n",
              "        text-align: right;\n",
              "    }\n",
              "</style>\n",
              "<table border=\"1\" class=\"dataframe\">\n",
              "  <thead>\n",
              "    <tr style=\"text-align: right;\">\n",
              "      <th></th>\n",
              "      <th>Mean Accuracy</th>\n",
              "      <th>Standard deviation</th>\n",
              "    </tr>\n",
              "    <tr>\n",
              "      <th>model_name</th>\n",
              "      <th></th>\n",
              "      <th></th>\n",
              "    </tr>\n",
              "  </thead>\n",
              "  <tbody>\n",
              "    <tr>\n",
              "      <th>LinearSVC</th>\n",
              "      <td>0.784411</td>\n",
              "      <td>0.004532</td>\n",
              "    </tr>\n",
              "    <tr>\n",
              "      <th>MultinomialNB</th>\n",
              "      <td>0.659791</td>\n",
              "      <td>0.003452</td>\n",
              "    </tr>\n",
              "    <tr>\n",
              "      <th>RandomForestClassifier</th>\n",
              "      <td>0.470029</td>\n",
              "      <td>0.003683</td>\n",
              "    </tr>\n",
              "  </tbody>\n",
              "</table>\n",
              "</div>"
            ],
            "text/plain": [
              "                        Mean Accuracy  Standard deviation\n",
              "model_name                                               \n",
              "LinearSVC                    0.784411            0.004532\n",
              "MultinomialNB                0.659791            0.003452\n",
              "RandomForestClassifier       0.470029            0.003683"
            ]
          },
          "metadata": {},
          "execution_count": 16
        }
      ]
    },
    {
      "cell_type": "code",
      "metadata": {
        "colab": {
          "base_uri": "https://localhost:8080/",
          "height": 370
        },
        "id": "s1pj-pwPg-2F",
        "outputId": "a42246f7-0810-484b-e86b-68f78b855a3c"
      },
      "source": [
        "plt.figure(figsize=(8,5))\n",
        "sns.boxplot(x='model_name', y='accuracy', \n",
        "            data=cv_df, \n",
        "            color='lightblue', \n",
        "            showmeans=True)\n",
        "plt.title(\"MEAN ACCURACY (cv = 5)\\n\", size=14);"
      ],
      "execution_count": null,
      "outputs": [
        {
          "output_type": "display_data",
          "data": {
            "image/png": "[encoded data removed]",
            "text/plain": [
              "<Figure size 576x360 with 1 Axes>"
            ]
          },
          "metadata": {}
        }
      ]
    },
    {
      "cell_type": "code",
      "metadata": {
        "id": "ah0dTFYKg-yl"
      },
      "source": [
        "X_train, X_test, y_train, y_test,indices_train,indices_test = train_test_split(features, \n",
        "                                                               labels, \n",
        "                                                               train.index, test_size=0.10, \n",
        "                                                               random_state=1)\n",
        "model =   LinearSVC()\n",
        "model.fit(X_train, y_train)\n",
        "y_pred = model.predict(X_test)"
      ],
      "execution_count": null,
      "outputs": []
    },
    {
      "cell_type": "code",
      "metadata": {
        "colab": {
          "base_uri": "https://localhost:8080/"
        },
        "id": "GNmIdVlahA01",
        "outputId": "e3081f1b-4906-4f11-a34a-e6bcd4af5048"
      },
      "source": [
        "# Classification report\n",
        "\n",
        "from sklearn.model_selection import cross_val_score\n",
        "from sklearn.metrics import confusion_matrix\n",
        "from sklearn import metrics\n",
        "\n",
        "print('\\t\\t\\t\\tCLASSIFICATIION METRICS\\n')\n",
        "print(metrics.classification_report(y_test, y_pred, \n",
        "                                    target_names= train['label'].unique()))"
      ],
      "execution_count": null,
      "outputs": [
        {
          "output_type": "stream",
          "name": "stdout",
          "text": [
            "\t\t\t\tCLASSIFICATIION METRICS\n",
            "\n",
            "              precision    recall  f1-score   support\n",
            "\n",
            "           1       0.80      0.79      0.80      1554\n",
            "           2       0.69      0.67      0.68       760\n",
            "           0       0.82      0.84      0.83      1802\n",
            "\n",
            "    accuracy                           0.79      4116\n",
            "   macro avg       0.77      0.77      0.77      4116\n",
            "weighted avg       0.79      0.79      0.79      4116\n",
            "\n"
          ]
        }
      ]
    },
    {
      "cell_type": "code",
      "metadata": {
        "colab": {
          "base_uri": "https://localhost:8080/",
          "height": 721
        },
        "id": "RmZ90NtehCfk",
        "outputId": "8d2a7143-92a3-4497-b71f-b476241b60f8"
      },
      "source": [
        "conf_mat = confusion_matrix(y_test, y_pred)\n",
        "fig, ax = plt.subplots(figsize=(8,8))\n",
        "sns.heatmap(conf_mat, annot=True, cmap=\"Blues\", fmt='d',\n",
        "            xticklabels=sentiment_id_df.label.values, \n",
        "            yticklabels=sentiment_id_df.label.values)\n",
        "train = train.drop(columns=['sentiment'])\n",
        "plt.ylabel('Actual')\n",
        "plt.xlabel('Predicted')\n",
        "plt.title(\"CONFUSION MATRIX - LinearSVC\\n\", size=16);"
      ],
      "execution_count": null,
      "outputs": [
        {
          "output_type": "error",
          "ename": "NameError",
          "evalue": "ignored",
          "traceback": [
            "\u001b[0;31m---------------------------------------------------------------------------\u001b[0m",
            "\u001b[0;31mNameError\u001b[0m                                 Traceback (most recent call last)",
            "\u001b[0;32m<ipython-input-20-199f9d68dc26>\u001b[0m in \u001b[0;36m<module>\u001b[0;34m()\u001b[0m\n\u001b[1;32m      2\u001b[0m \u001b[0mfig\u001b[0m\u001b[0;34m,\u001b[0m \u001b[0max\u001b[0m \u001b[0;34m=\u001b[0m \u001b[0mplt\u001b[0m\u001b[0;34m.\u001b[0m\u001b[0msubplots\u001b[0m\u001b[0;34m(\u001b[0m\u001b[0mfigsize\u001b[0m\u001b[0;34m=\u001b[0m\u001b[0;34m(\u001b[0m\u001b[0;36m8\u001b[0m\u001b[0;34m,\u001b[0m\u001b[0;36m8\u001b[0m\u001b[0;34m)\u001b[0m\u001b[0;34m)\u001b[0m\u001b[0;34m\u001b[0m\u001b[0;34m\u001b[0m\u001b[0m\n\u001b[1;32m      3\u001b[0m sns.heatmap(conf_mat, annot=True, cmap=\"Blues\", fmt='d',\n\u001b[0;32m----> 4\u001b[0;31m             \u001b[0mxticklabels\u001b[0m\u001b[0;34m=\u001b[0m\u001b[0msentiment_id_df\u001b[0m\u001b[0;34m.\u001b[0m\u001b[0mlabel\u001b[0m\u001b[0;34m.\u001b[0m\u001b[0mvalues\u001b[0m\u001b[0;34m,\u001b[0m\u001b[0;34m\u001b[0m\u001b[0;34m\u001b[0m\u001b[0m\n\u001b[0m\u001b[1;32m      5\u001b[0m             yticklabels=sentiment_id_df.label.values)\n\u001b[1;32m      6\u001b[0m \u001b[0mtrain\u001b[0m \u001b[0;34m=\u001b[0m \u001b[0mtrain\u001b[0m\u001b[0;34m.\u001b[0m\u001b[0mdrop\u001b[0m\u001b[0;34m(\u001b[0m\u001b[0mcolumns\u001b[0m\u001b[0;34m=\u001b[0m\u001b[0;34m[\u001b[0m\u001b[0;34m'sentiment'\u001b[0m\u001b[0;34m]\u001b[0m\u001b[0;34m)\u001b[0m\u001b[0;34m\u001b[0m\u001b[0;34m\u001b[0m\u001b[0m\n",
            "\u001b[0;31mNameError\u001b[0m: name 'sentiment_id_df' is not defined"
          ]
        },
        {
          "output_type": "display_data",
          "data": {
            "image/png": "[encoded data removed]",
            "text/plain": [
              "<Figure size 576x576 with 1 Axes>"
            ]
          },
          "metadata": {}
        }
      ]
    }
  ]
}